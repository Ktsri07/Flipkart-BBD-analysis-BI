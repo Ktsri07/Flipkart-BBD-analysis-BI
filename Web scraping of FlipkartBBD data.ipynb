{
 "cells": [
  {
   "cell_type": "code",
   "execution_count": 4,
   "id": "8445f3d1",
   "metadata": {},
   "outputs": [
    {
     "name": "stdout",
     "output_type": "stream",
     "text": [
      "Data has been successfully scraped and saved to Flipkart_BBD_2023_Data.xlsx\n"
     ]
    }
   ],
   "source": [
    "import requests\n",
    "from bs4 import BeautifulSoup\n",
    "import pandas as pd\n",
    "\n",
    "# URL of the website to scrape\n",
    "url = \"https://www.actowizsolutions.com/web-scraping-flipkart-big-billion-days-get-best-deals.php\"\n",
    "\n",
    "# Send a GET request to fetch the HTML content\n",
    "response = requests.get(url)\n",
    "soup = BeautifulSoup(response.text, 'html.parser')\n",
    "\n",
    "# Function to extract table data\n",
    "def extract_table_data(table):\n",
    "    headers = [header.text.strip() for header in table.find_all('th')]\n",
    "    rows = []\n",
    "    for row in table.find_all('tr')[1:]:  # Skip header row\n",
    "        cells = [cell.text.strip() for cell in row.find_all('td')]\n",
    "        if cells:  # Ensure that the row is not empty\n",
    "            rows.append(cells)\n",
    "    return headers, rows\n",
    "\n",
    "# Find all tables on the page\n",
    "tables = soup.find_all('table')\n",
    "\n",
    "# Create a Pandas Excel writer using XlsxWriter as the engine\n",
    "with pd.ExcelWriter('C:/Users/TEJASRI/Desktop/PowerBI/FlipkartBBD.xlsx', engine='openpyxl') as writer:\n",
    "    for i, table in enumerate(tables):\n",
    "        headers, data = extract_table_data(table)\n",
    "        df = pd.DataFrame(data, columns=headers)\n",
    "        # Write each DataFrame to a different sheet in the Excel file\n",
    "        df.to_excel(writer, sheet_name=f'Table_{i+1}', index=False)\n",
    "\n",
    "print(\"Data has been successfully scraped and saved to Flipkart_BBD_2023_Data.xlsx\")"
   ]
  },
  {
   "cell_type": "code",
   "execution_count": null,
   "id": "5321f129",
   "metadata": {},
   "outputs": [],
   "source": []
  }
 ],
 "metadata": {
  "kernelspec": {
   "display_name": "Python 3 (ipykernel)",
   "language": "python",
   "name": "python3"
  },
  "language_info": {
   "codemirror_mode": {
    "name": "ipython",
    "version": 3
   },
   "file_extension": ".py",
   "mimetype": "text/x-python",
   "name": "python",
   "nbconvert_exporter": "python",
   "pygments_lexer": "ipython3",
   "version": "3.11.5"
  }
 },
 "nbformat": 4,
 "nbformat_minor": 5
}
